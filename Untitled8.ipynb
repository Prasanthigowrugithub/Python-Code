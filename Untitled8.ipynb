{
 "cells": [
  {
   "cell_type": "markdown",
   "id": "433c4e52",
   "metadata": {},
   "source": [
    "## You will have a number of elements and in the next n lines element of a list. You have to create a list from the given strings. You have to sort the list based on 2nd last character of a string."
   ]
  },
  {
   "cell_type": "code",
   "execution_count": null,
   "id": "343862d4",
   "metadata": {},
   "outputs": [],
   "source": [
    "val_terms = attribute(\"list\", \"string\").distinct.sorted\n",
    "List[String] = List[A single line containing a sorted list]:\n",
    "    print(List[String])"
   ]
  }
 ],
 "metadata": {
  "kernelspec": {
   "display_name": "Python 3 (ipykernel)",
   "language": "python",
   "name": "python3"
  },
  "language_info": {
   "codemirror_mode": {
    "name": "ipython",
    "version": 3
   },
   "file_extension": ".py",
   "mimetype": "text/x-python",
   "name": "python",
   "nbconvert_exporter": "python",
   "pygments_lexer": "ipython3",
   "version": "3.10.6"
  }
 },
 "nbformat": 4,
 "nbformat_minor": 5
}
